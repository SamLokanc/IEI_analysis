{
 "cells": [
  {
   "cell_type": "code",
   "execution_count": 238,
   "metadata": {},
   "outputs": [],
   "source": [
    "import pandas as pd\n",
    "import numpy as np\n",
    "import os\n",
    "\n",
    "from scipy.stats import combine_pvalues"
   ]
  },
  {
   "cell_type": "code",
   "execution_count": 239,
   "metadata": {},
   "outputs": [],
   "source": [
    "def fisher_method_threshold(p_values, min_p_value = 1e-16):\n",
    "    p_values = np.maximum(p_values, min_p_value)\n",
    "    _, combined_p_value = combine_pvalues(p_values, method='fisher')\n",
    "    return combined_p_value"
   ]
  },
  {
   "cell_type": "code",
   "execution_count": 240,
   "metadata": {},
   "outputs": [],
   "source": [
    "#establish file paths to DEA results\n",
    "proj_codes_df = pd.read_csv('proj_codes.csv')\n",
    "proj_codes_df['matched_tissue'] = proj_codes_df['matched_tissue'].str.replace(' ','_')\n",
    "\n",
    "base_dir = '/Users/samlokanc/projects/Lab/IEI/IEI 2024/Results'\n",
    "file_paths_DEA = proj_codes_df.apply(\n",
    "    lambda row: os.path.join(base_dir, row['proj'], 'DEA', f\"subset_DEGs_{row['proj']}_{row['sample_abbr']}_GTEX_{row['matched_tissue']}.csv\"),\n",
    "    axis = 1\n",
    ")\n",
    "\n",
    "#load data from specified files into pandas dataframes\n",
    "DEA_dfs = []\n",
    "\n",
    "for i, file_path in enumerate(file_paths_DEA):\n",
    "    df = pd.read_csv(file_path)\n",
    "    df['proj'] = proj_codes_df.iloc[i]['proj']\n",
    "    DEA_dfs.append(df)"
   ]
  },
  {
   "cell_type": "code",
   "execution_count": 241,
   "metadata": {},
   "outputs": [],
   "source": [
    "#concatenate all DEA dataframes into single respective dataframe\n",
    "DEA_data = pd.concat(DEA_dfs, ignore_index = True)\n",
    "\n",
    "#count occurences of each gene\n",
    "gene_counts = DEA_data['Gene.symbol'].value_counts().reset_index()\n",
    "gene_counts.columns = ['Gene.symbol', 'count']\n",
    "\n",
    "#calculate the fisher combined p-vals and log2fc for each gene\n",
    "grouped_DEA_data = DEA_data.groupby('Gene.symbol').agg(\n",
    "    combined_p_values = ('adj.P.Val', lambda p_values: fisher_method_threshold(p_values)),\n",
    "    average_log2fc = ('logFC', 'mean')\n",
    ").reset_index()\n",
    "\n",
    "#aggregate project codes for each gene\n",
    "project_codes = DEA_data.groupby('Gene.symbol')['proj'].apply(lambda x: list(x.unique())).reset_index()\n",
    "\n",
    "#merge gene counts with grouped data\n",
    "DEA_result_df = pd.merge(gene_counts, grouped_DEA_data, on='Gene.symbol')\n",
    "DEA_result_df = pd.merge(DEA_result_df, project_codes, on='Gene.symbol')\n",
    "\n",
    "#Filter to get significant top up/down regulated terms\n",
    "top_upregulated = DEA_result_df[DEA_result_df['average_log2fc'] > 0].sort_values(by = 'average_log2fc', ascending = False)\n",
    "top_downregulated = DEA_result_df[DEA_result_df['average_log2fc'] < 0].sort_values(by = 'average_log2fc', ascending = True)"
   ]
  },
  {
   "cell_type": "code",
   "execution_count": 242,
   "metadata": {},
   "outputs": [],
   "source": [
    "#establish file paths to GO results\n",
    "file_paths_GO = proj_codes_df.apply(\n",
    "    lambda row: os.path.join(base_dir, row['proj'], 'GO', f\"file_{row['proj']}_{row['sample_abbr']}_GTEX_{row['matched_tissue']}.csv\"),\n",
    "    axis = 1\n",
    ")\n",
    "\n",
    "#load data from specified files into pandas dataframes\n",
    "GO_dfs =[]\n",
    "\n",
    "for i, file_path in enumerate(file_paths_GO):\n",
    "    df = pd.read_csv(file_path)\n",
    "    df['proj'] = proj_codes_df.iloc[i]['proj']\n",
    "    GO_dfs.append(df)"
   ]
  },
  {
   "cell_type": "code",
   "execution_count": 247,
   "metadata": {},
   "outputs": [],
   "source": [
    "#concatenate all GO dataframes into single respective dataframe\n",
    "GO_data = pd.concat(GO_dfs, ignore_index = True)\n",
    "\n",
    "#remove non significant results\n",
    "GO_data = GO_data[(GO_data['over_represented_pvalue'] < 0.05) | (GO_data['under_represented_pvalue'] < 0.05)]\n",
    "\n",
    "#count occurences of each GO term\n",
    "term_counts = GO_data['term'].value_counts().reset_index()\n",
    "term_counts.columns = ['term', 'count']\n",
    "\n",
    "#calculate the fisher combined p-vals and log2fc for each gene\n",
    "grouped_GO_data = GO_data.groupby(['term','category']).agg(\n",
    "    combined_overrepresented_pvalue = ('over_represented_pvalue', lambda p_values: fisher_method_threshold(p_values)),\n",
    "    combined_underrepresented_pvalue = ('under_represented_pvalue', lambda p_values: fisher_method_threshold(p_values))\n",
    ").reset_index()\n",
    "\n",
    "#aggregate project codes for each gene\n",
    "project_codes = GO_data.groupby('term')['proj'].apply(lambda x: list(x.unique())).reset_index()\n",
    "\n",
    "#merge gene counts with grouped data\n",
    "GO_result_df = pd.merge(term_counts, grouped_GO_data, on='term')\n",
    "GO_result_df = pd.merge(GO_result_df, project_codes, on='term')\n",
    "\n",
    "#Filter to get significant top up/down regulated genes\n",
    "top_overrepresented = GO_result_df[GO_result_df['combined_overrepresented_pvalue'] < 0.05].sort_values(by = 'combined_overrepresented_pvalue', ascending = True)\n",
    "top_underrepresented = GO_result_df[GO_result_df['combined_underrepresented_pvalue'] < 0.05].sort_values(by = 'combined_underrepresented_pvalue', ascending = True)"
   ]
  },
  {
   "cell_type": "code",
   "execution_count": 248,
   "metadata": {},
   "outputs": [],
   "source": [
    "top_upregulated.to_csv('top_upregulated.csv', index = False)\n",
    "top_downregulated.to_csv('top_downregulated.csv', index = False)\n",
    "\n",
    "top_overrepresented.to_csv('top_overrepresented.csv', index = False)\n",
    "top_underrepresented.to_csv('top_underrepresented.csv', index = False)"
   ]
  },
  {
   "cell_type": "code",
   "execution_count": 249,
   "metadata": {},
   "outputs": [
    {
     "data": {
      "text/html": [
       "<div>\n",
       "<style scoped>\n",
       "    .dataframe tbody tr th:only-of-type {\n",
       "        vertical-align: middle;\n",
       "    }\n",
       "\n",
       "    .dataframe tbody tr th {\n",
       "        vertical-align: top;\n",
       "    }\n",
       "\n",
       "    .dataframe thead th {\n",
       "        text-align: right;\n",
       "    }\n",
       "</style>\n",
       "<table border=\"1\" class=\"dataframe\">\n",
       "  <thead>\n",
       "    <tr style=\"text-align: right;\">\n",
       "      <th></th>\n",
       "      <th>term</th>\n",
       "      <th>count</th>\n",
       "      <th>category</th>\n",
       "      <th>combined_overrepresented_pvalue</th>\n",
       "      <th>combined_underrepresented_pvalue</th>\n",
       "      <th>proj</th>\n",
       "    </tr>\n",
       "  </thead>\n",
       "  <tbody>\n",
       "    <tr>\n",
       "      <th>0</th>\n",
       "      <td>humoral immune response</td>\n",
       "      <td>23</td>\n",
       "      <td>GO:0006959</td>\n",
       "      <td>4.098413e-76</td>\n",
       "      <td>1.000000</td>\n",
       "      <td>[TCGA-LAML, TCGA-STAD, TCGA-SKCM, TCGA-BRCA, T...</td>\n",
       "    </tr>\n",
       "    <tr>\n",
       "      <th>3</th>\n",
       "      <td>extracellular region</td>\n",
       "      <td>20</td>\n",
       "      <td>GO:0005576</td>\n",
       "      <td>1.531687e-58</td>\n",
       "      <td>1.000000</td>\n",
       "      <td>[TCGA-LAML, TCGA-STAD, TCGA-SKCM, TCGA-BRCA, T...</td>\n",
       "    </tr>\n",
       "    <tr>\n",
       "      <th>7</th>\n",
       "      <td>complement activation</td>\n",
       "      <td>19</td>\n",
       "      <td>GO:0006956</td>\n",
       "      <td>2.030118e-49</td>\n",
       "      <td>1.000000</td>\n",
       "      <td>[TCGA-LAML, TCGA-STAD, TCGA-BRCA, TCGA-BLCA, T...</td>\n",
       "    </tr>\n",
       "    <tr>\n",
       "      <th>6</th>\n",
       "      <td>immune response</td>\n",
       "      <td>19</td>\n",
       "      <td>GO:0006955</td>\n",
       "      <td>5.013250e-47</td>\n",
       "      <td>1.000000</td>\n",
       "      <td>[TCGA-LAML, TCGA-STAD, TCGA-SKCM, TCGA-BRCA, T...</td>\n",
       "    </tr>\n",
       "    <tr>\n",
       "      <th>25</th>\n",
       "      <td>extracellular space</td>\n",
       "      <td>16</td>\n",
       "      <td>GO:0005615</td>\n",
       "      <td>1.588040e-46</td>\n",
       "      <td>1.000000</td>\n",
       "      <td>[TCGA-LAML, TCGA-STAD, TCGA-BRCA, TCGA-BLCA, T...</td>\n",
       "    </tr>\n",
       "    <tr>\n",
       "      <th>...</th>\n",
       "      <td>...</td>\n",
       "      <td>...</td>\n",
       "      <td>...</td>\n",
       "      <td>...</td>\n",
       "      <td>...</td>\n",
       "      <td>...</td>\n",
       "    </tr>\n",
       "    <tr>\n",
       "      <th>2146</th>\n",
       "      <td>cilium movement involved in cell motility</td>\n",
       "      <td>1</td>\n",
       "      <td>GO:0060294</td>\n",
       "      <td>4.988207e-02</td>\n",
       "      <td>0.992139</td>\n",
       "      <td>[TCGA-CESC]</td>\n",
       "    </tr>\n",
       "    <tr>\n",
       "      <th>2138</th>\n",
       "      <td>epithelial cilium movement involved in extrace...</td>\n",
       "      <td>1</td>\n",
       "      <td>GO:0003351</td>\n",
       "      <td>4.992200e-02</td>\n",
       "      <td>0.992130</td>\n",
       "      <td>[TCGA-CESC]</td>\n",
       "    </tr>\n",
       "    <tr>\n",
       "      <th>2145</th>\n",
       "      <td>extracellular transport</td>\n",
       "      <td>1</td>\n",
       "      <td>GO:0006858</td>\n",
       "      <td>4.992200e-02</td>\n",
       "      <td>0.992130</td>\n",
       "      <td>[TCGA-CESC]</td>\n",
       "    </tr>\n",
       "    <tr>\n",
       "      <th>2230</th>\n",
       "      <td>positive regulation of intrinsic apoptotic sig...</td>\n",
       "      <td>1</td>\n",
       "      <td>GO:1902255</td>\n",
       "      <td>4.999851e-02</td>\n",
       "      <td>1.000000</td>\n",
       "      <td>[TCGA-LAML]</td>\n",
       "    </tr>\n",
       "    <tr>\n",
       "      <th>2231</th>\n",
       "      <td>regulation of intrinsic apoptotic signaling pa...</td>\n",
       "      <td>1</td>\n",
       "      <td>GO:1902253</td>\n",
       "      <td>4.999851e-02</td>\n",
       "      <td>1.000000</td>\n",
       "      <td>[TCGA-LAML]</td>\n",
       "    </tr>\n",
       "  </tbody>\n",
       "</table>\n",
       "<p>2124 rows × 6 columns</p>\n",
       "</div>"
      ],
      "text/plain": [
       "                                                   term  count    category  \\\n",
       "0                               humoral immune response     23  GO:0006959   \n",
       "3                                  extracellular region     20  GO:0005576   \n",
       "7                                 complement activation     19  GO:0006956   \n",
       "6                                       immune response     19  GO:0006955   \n",
       "25                                  extracellular space     16  GO:0005615   \n",
       "...                                                 ...    ...         ...   \n",
       "2146          cilium movement involved in cell motility      1  GO:0060294   \n",
       "2138  epithelial cilium movement involved in extrace...      1  GO:0003351   \n",
       "2145                            extracellular transport      1  GO:0006858   \n",
       "2230  positive regulation of intrinsic apoptotic sig...      1  GO:1902255   \n",
       "2231  regulation of intrinsic apoptotic signaling pa...      1  GO:1902253   \n",
       "\n",
       "      combined_overrepresented_pvalue  combined_underrepresented_pvalue  \\\n",
       "0                        4.098413e-76                          1.000000   \n",
       "3                        1.531687e-58                          1.000000   \n",
       "7                        2.030118e-49                          1.000000   \n",
       "6                        5.013250e-47                          1.000000   \n",
       "25                       1.588040e-46                          1.000000   \n",
       "...                               ...                               ...   \n",
       "2146                     4.988207e-02                          0.992139   \n",
       "2138                     4.992200e-02                          0.992130   \n",
       "2145                     4.992200e-02                          0.992130   \n",
       "2230                     4.999851e-02                          1.000000   \n",
       "2231                     4.999851e-02                          1.000000   \n",
       "\n",
       "                                                   proj  \n",
       "0     [TCGA-LAML, TCGA-STAD, TCGA-SKCM, TCGA-BRCA, T...  \n",
       "3     [TCGA-LAML, TCGA-STAD, TCGA-SKCM, TCGA-BRCA, T...  \n",
       "7     [TCGA-LAML, TCGA-STAD, TCGA-BRCA, TCGA-BLCA, T...  \n",
       "6     [TCGA-LAML, TCGA-STAD, TCGA-SKCM, TCGA-BRCA, T...  \n",
       "25    [TCGA-LAML, TCGA-STAD, TCGA-BRCA, TCGA-BLCA, T...  \n",
       "...                                                 ...  \n",
       "2146                                        [TCGA-CESC]  \n",
       "2138                                        [TCGA-CESC]  \n",
       "2145                                        [TCGA-CESC]  \n",
       "2230                                        [TCGA-LAML]  \n",
       "2231                                        [TCGA-LAML]  \n",
       "\n",
       "[2124 rows x 6 columns]"
      ]
     },
     "execution_count": 249,
     "metadata": {},
     "output_type": "execute_result"
    }
   ],
   "source": [
    "top_overrepresented"
   ]
  },
  {
   "cell_type": "code",
   "execution_count": 267,
   "metadata": {},
   "outputs": [
    {
     "data": {
      "text/plain": [
       "'GO:0005622, GO:0043229, GO:0043231, GO:0031981, GO:0005737, GO:0005654, GO:0006974, GO:0005829, GO:0006996, GO:0005634, GO:0006281, GO:0033554, GO:0043232, GO:0043228, GO:0140535, GO:0140513, GO:0043226, GO:0003824'"
      ]
     },
     "execution_count": 267,
     "metadata": {},
     "output_type": "execute_result"
    }
   ],
   "source": [
    "UR = top_underrepresented[(top_underrepresented['count'] >= 14)]\n",
    "UR = ', '.join(UR['category'].astype(str))\n",
    "UR"
   ]
  },
  {
   "cell_type": "code",
   "execution_count": 270,
   "metadata": {},
   "outputs": [
    {
     "data": {
      "text/plain": [
       "'GO:0006959, GO:0005576, GO:0006956, GO:0006955, GO:0005615, GO:0002252, GO:0002682, GO:0009897, GO:0002250, GO:0002455, GO:0002684, GO:0071944, GO:0002376, GO:0006958, GO:0002253, GO:0009986, GO:0072562, GO:0060089, GO:0038023, GO:0048583, GO:0050776, GO:0050778, GO:0002920, GO:0051241, GO:0048584, GO:0002698, GO:0006952, GO:0065007, GO:0062023, GO:0005886, GO:0030312, GO:0031012, GO:0002449, GO:0030098, GO:0001775, GO:0019724, GO:0002460, GO:0002921, GO:1903131, GO:0098552, GO:0045321, GO:0016064, GO:0072378, GO:0072376, GO:0002443, GO:0070661'"
      ]
     },
     "execution_count": 270,
     "metadata": {},
     "output_type": "execute_result"
    }
   ],
   "source": [
    "OR = top_overrepresented[(top_overrepresented['count'] >= 14)]\n",
    "OR = ', '.join(OR['category'].astype(str))\n",
    "OR"
   ]
  },
  {
   "cell_type": "code",
   "execution_count": 269,
   "metadata": {},
   "outputs": [
    {
     "data": {
      "text/plain": [
       "46"
      ]
     },
     "execution_count": 269,
     "metadata": {},
     "output_type": "execute_result"
    }
   ],
   "source": [
    "len(top_overrepresented[(top_overrepresented['count'] >= 14)])\n"
   ]
  }
 ],
 "metadata": {
  "kernelspec": {
   "display_name": "DATA",
   "language": "python",
   "name": "python3"
  },
  "language_info": {
   "codemirror_mode": {
    "name": "ipython",
    "version": 3
   },
   "file_extension": ".py",
   "mimetype": "text/x-python",
   "name": "python",
   "nbconvert_exporter": "python",
   "pygments_lexer": "ipython3",
   "version": "3.11.6"
  }
 },
 "nbformat": 4,
 "nbformat_minor": 2
}
