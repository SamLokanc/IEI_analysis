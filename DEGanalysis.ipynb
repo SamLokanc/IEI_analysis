{
 "cells": [
  {
   "cell_type": "code",
   "execution_count": 150,
   "metadata": {},
   "outputs": [],
   "source": [
    "import pandas as pd\n",
    "import numpy as np\n",
    "import os\n",
    "\n",
    "from scipy.stats import combine_pvalues"
   ]
  },
  {
   "cell_type": "code",
   "execution_count": 151,
   "metadata": {},
   "outputs": [],
   "source": [
    "def fisher_method_threshold(p_values, min_p_value = 1e-16):\n",
    "    p_values = np.maximum(p_values, min_p_value)\n",
    "    _, combined_p_value = combine_pvalues(p_values, method='fisher')\n",
    "    return combined_p_value"
   ]
  },
  {
   "cell_type": "code",
   "execution_count": 152,
   "metadata": {},
   "outputs": [],
   "source": [
    "#establish file paths to DEA results\n",
    "proj_codes_df = pd.read_csv('proj_codes.csv')\n",
    "proj_codes_df['matched_tissue'] = proj_codes_df['matched_tissue'].str.replace(' ','_')\n",
    "\n",
    "base_dir = '/Users/samlokanc/projects/Lab/IEI/IEI 2024/Results'\n",
    "file_paths_DEA = proj_codes_df.apply(\n",
    "    lambda row: os.path.join(base_dir, row['proj'], 'DEA', f\"subset_DEGs_{row['proj']}_{row['sample_abbr']}_GTEX_{row['matched_tissue']}.csv\"),\n",
    "    axis = 1\n",
    ")\n",
    "\n",
    "#load data from specified files into pandas dataframes\n",
    "DEA_dfs = []\n",
    "\n",
    "for i, file_path in enumerate(file_paths_DEA):\n",
    "    df = pd.read_csv(file_path)\n",
    "    df['proj'] = proj_codes_df.iloc[i]['proj']\n",
    "    DEA_dfs.append(df)"
   ]
  },
  {
   "cell_type": "code",
   "execution_count": 153,
   "metadata": {},
   "outputs": [],
   "source": [
    "#concatenate all DEA dataframes into single respective dataframe\n",
    "DEA_data = pd.concat(DEA_dfs, ignore_index = True)\n",
    "\n",
    "#count occurences of each gene\n",
    "gene_counts = DEA_data['Gene.symbol'].value_counts().reset_index()\n",
    "gene_counts.columns = ['Gene.symbol', 'count']\n",
    "\n",
    "#calculate the fisher combined p-vals and log2fc for each gene\n",
    "grouped_DEA_data = DEA_data.groupby('Gene.symbol').agg(\n",
    "    combined_p_values = ('adj.P.Val', lambda p_values: fisher_method_threshold(p_values)),\n",
    "    average_log2fc = ('logFC', 'mean')\n",
    ").reset_index()\n",
    "\n",
    "#aggregate project codes for each gene\n",
    "project_codes = DEA_data.groupby('Gene.symbol')['proj'].apply(lambda x: list(x.unique())).reset_index()\n",
    "\n",
    "#merge gene counts with grouped data\n",
    "DEA_result_df = pd.merge(gene_counts, grouped_DEA_data, on='Gene.symbol')\n",
    "DEA_result_df = pd.merge(DEA_result_df, project_codes, on='Gene.symbol')\n",
    "\n",
    "#Filter to get significant top up/down regulated terms\n",
    "top_upregulated = DEA_result_df[DEA_result_df['average_log2fc'] > 0].sort_values(by = 'average_log2fc', ascending = False)\n",
    "top_downregulated = DEA_result_df[DEA_result_df['average_log2fc'] < 0].sort_values(by = 'average_log2fc', ascending = True)"
   ]
  },
  {
   "cell_type": "code",
   "execution_count": 154,
   "metadata": {},
   "outputs": [],
   "source": [
    "#establish file paths to GO results\n",
    "file_paths_GO = proj_codes_df.apply(\n",
    "    lambda row: os.path.join(base_dir, row['proj'], 'GO', f\"top_file_{row['proj']}_{row['sample_abbr']}_GTEX_{row['matched_tissue']}.csv\"),\n",
    "    axis = 1\n",
    ")\n",
    "\n",
    "#load data from specified files into pandas dataframes\n",
    "GO_dfs =[]\n",
    "\n",
    "for i, file_path in enumerate(file_paths_GO):\n",
    "    df = pd.read_csv(file_path)\n",
    "    df['proj'] = proj_codes_df.iloc[i]['proj']\n",
    "    GO_dfs.append(df)"
   ]
  },
  {
   "cell_type": "code",
   "execution_count": 211,
   "metadata": {},
   "outputs": [],
   "source": [
    "#concatenate all GO dataframes into single respective dataframe\n",
    "GO_data = pd.concat(GO_dfs, ignore_index = True)\n",
    "\n",
    "#count occurences of each GO term\n",
    "term_counts = GO_data['term'].value_counts().reset_index()\n",
    "term_counts.columns = ['term', 'count']\n",
    "\n",
    "#calculate the fisher combined p-vals and log2fc for each gene\n",
    "grouped_GO_data = GO_data.groupby(['term','category']).agg(\n",
    "    combined_overrepresented_pvalue = ('over_represented_pvalue', lambda p_values: fisher_method_threshold(p_values)),\n",
    "    combined_underrepresented_pvalue = ('under_represented_pvalue', lambda p_values: fisher_method_threshold(p_values))\n",
    ").reset_index()\n",
    "\n",
    "#aggregate project codes for each gene\n",
    "project_codes = GO_data.groupby('term')['proj'].apply(lambda x: list(x.unique())).reset_index()\n",
    "\n",
    "#merge gene counts with grouped data\n",
    "GO_result_df = pd.merge(term_counts, grouped_GO_data, on='term')\n",
    "GO_result_df = pd.merge(GO_result_df, project_codes, on='term')\n",
    "\n",
    "#Filter to get significant top up/down regulated genes\n",
    "top_overrepresented = GO_result_df[GO_result_df['combined_overrepresented_pvalue'] < 0.05].sort_values(by = 'combined_overrepresented_pvalue', ascending = True)\n",
    "top_underrepresented = GO_result_df[GO_result_df['combined_underrepresented_pvalue'] < 0.05].sort_values(by = 'combined_underrepresented_pvalue', ascending = True)"
   ]
  },
  {
   "cell_type": "code",
   "execution_count": 212,
   "metadata": {},
   "outputs": [],
   "source": [
    "top_upregulated.to_csv('top_upregulated.csv', index = False)\n",
    "top_downregulated.to_csv('top_downregulated.csv', index = False)\n",
    "\n",
    "top_overrepresented.to_csv('top_overrepresented.csv', index = False)\n",
    "top_underrepresented.to_csv('top_underrepresented.csv', index = False)"
   ]
  },
  {
   "cell_type": "code",
   "execution_count": null,
   "metadata": {},
   "outputs": [],
   "source": []
  },
  {
   "cell_type": "code",
   "execution_count": 220,
   "metadata": {},
   "outputs": [
    {
     "data": {
      "text/plain": [
       "'GO:0005622, GO:0043229, GO:0043231, GO:0005737'"
      ]
     },
     "execution_count": 220,
     "metadata": {},
     "output_type": "execute_result"
    }
   ],
   "source": [
    "UR = top_underrepresented[(top_underrepresented['count'] >= 10)]\n",
    "UR = ', '.join(UR['category'].astype(str))\n",
    "UR"
   ]
  },
  {
   "cell_type": "code",
   "execution_count": 236,
   "metadata": {},
   "outputs": [
    {
     "data": {
      "text/html": [
       "<div>\n",
       "<style scoped>\n",
       "    .dataframe tbody tr th:only-of-type {\n",
       "        vertical-align: middle;\n",
       "    }\n",
       "\n",
       "    .dataframe tbody tr th {\n",
       "        vertical-align: top;\n",
       "    }\n",
       "\n",
       "    .dataframe thead th {\n",
       "        text-align: right;\n",
       "    }\n",
       "</style>\n",
       "<table border=\"1\" class=\"dataframe\">\n",
       "  <thead>\n",
       "    <tr style=\"text-align: right;\">\n",
       "      <th></th>\n",
       "      <th>Gene.symbol</th>\n",
       "      <th>count</th>\n",
       "      <th>combined_p_values</th>\n",
       "      <th>average_log2fc</th>\n",
       "      <th>proj</th>\n",
       "    </tr>\n",
       "  </thead>\n",
       "  <tbody>\n",
       "    <tr>\n",
       "      <th>39</th>\n",
       "      <td>FANCG</td>\n",
       "      <td>28</td>\n",
       "      <td>3.017473e-26</td>\n",
       "      <td>0.269445</td>\n",
       "      <td>[TCGA-LAML, TCGA-STAD, TCGA-SKCM, TCGA-BRCA, T...</td>\n",
       "    </tr>\n",
       "  </tbody>\n",
       "</table>\n",
       "</div>"
      ],
      "text/plain": [
       "   Gene.symbol  count  combined_p_values  average_log2fc  \\\n",
       "39       FANCG     28       3.017473e-26        0.269445   \n",
       "\n",
       "                                                 proj  \n",
       "39  [TCGA-LAML, TCGA-STAD, TCGA-SKCM, TCGA-BRCA, T...  "
      ]
     },
     "execution_count": 236,
     "metadata": {},
     "output_type": "execute_result"
    }
   ],
   "source": [
    "top_upregulated[(top_upregulated['Gene.symbol'] == 'FANCG')]\n"
   ]
  },
  {
   "cell_type": "code",
   "execution_count": 237,
   "metadata": {},
   "outputs": [
    {
     "data": {
      "text/html": [
       "<div>\n",
       "<style scoped>\n",
       "    .dataframe tbody tr th:only-of-type {\n",
       "        vertical-align: middle;\n",
       "    }\n",
       "\n",
       "    .dataframe tbody tr th {\n",
       "        vertical-align: top;\n",
       "    }\n",
       "\n",
       "    .dataframe thead th {\n",
       "        text-align: right;\n",
       "    }\n",
       "</style>\n",
       "<table border=\"1\" class=\"dataframe\">\n",
       "  <thead>\n",
       "    <tr style=\"text-align: right;\">\n",
       "      <th></th>\n",
       "      <th>Gene.symbol</th>\n",
       "      <th>count</th>\n",
       "      <th>combined_p_values</th>\n",
       "      <th>average_log2fc</th>\n",
       "      <th>proj</th>\n",
       "    </tr>\n",
       "  </thead>\n",
       "  <tbody>\n",
       "  </tbody>\n",
       "</table>\n",
       "</div>"
      ],
      "text/plain": [
       "Empty DataFrame\n",
       "Columns: [Gene.symbol, count, combined_p_values, average_log2fc, proj]\n",
       "Index: []"
      ]
     },
     "execution_count": 237,
     "metadata": {},
     "output_type": "execute_result"
    }
   ],
   "source": [
    "top_downregulated[(top_downregulated['Gene.symbol'] == 'FANCG')]"
   ]
  }
 ],
 "metadata": {
  "kernelspec": {
   "display_name": "DATA",
   "language": "python",
   "name": "python3"
  },
  "language_info": {
   "codemirror_mode": {
    "name": "ipython",
    "version": 3
   },
   "file_extension": ".py",
   "mimetype": "text/x-python",
   "name": "python",
   "nbconvert_exporter": "python",
   "pygments_lexer": "ipython3",
   "version": "3.11.6"
  }
 },
 "nbformat": 4,
 "nbformat_minor": 2
}
